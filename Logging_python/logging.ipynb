{
 "cells": [
  {
   "cell_type": "markdown",
   "metadata": {},
   "source": [
    "## python logging \n",
    "#### logging is a crucial aspect of any application,providing a way to track events,errors,and operational information. python's built-in logging module offers a flexible framework for emitting log messages from python programs. we will the basics of logging,including how to configure logging, log levels, and best practices for using logging in python applications."
   ]
  },
  {
   "cell_type": "code",
   "execution_count": 1,
   "metadata": {},
   "outputs": [],
   "source": [
    "import logging"
   ]
  },
  {
   "cell_type": "markdown",
   "metadata": {},
   "source": [
    "## log levels \n",
    "#### python's logging module has several log levels indicating the severity of events. the default levels are:\n",
    "- DEBUG: Detailed information, typically of interest only when diagonsing problems.\n",
    "- INFO: Confirmation that things are working as expected.\n",
    "- WARNING: An indication that something unexpected happened or indicative of some problem in the near future(e.g 'disk space low').the software is still working as expected.\n",
    "- ERROR: Due to a more serious problem, the software has not been able to perform some function.\n",
    "- CRITICAL: A very serious error, indicating that the program itself may be unable to continue running."
   ]
  },
  {
   "cell_type": "code",
   "execution_count": 2,
   "metadata": {},
   "outputs": [],
   "source": [
    "#configure logging\n",
    "logging.basicConfig(\n",
    "    filename='app.log',\n",
    "    filemode='w',\n",
    "    level=logging.DEBUG,\n",
    "    format='%(asctime)s-%(name)s-%(levelname)s-%(message)s',\n",
    "    datefmt='%Y-%m-%d %H:%M:%S'\n",
    "                    )"
   ]
  },
  {
   "cell_type": "code",
   "execution_count": null,
   "metadata": {},
   "outputs": [],
   "source": [
    "## log messages with different severity levels\n",
    "logging.debug(\"this is a debug message\")\n",
    "logging.error(\"this is a error message\")\n",
    "logging.info(\"this is a info message\")\n",
    "logging.warning(\"this is a warning message\")\n",
    "logging.critical(\"this is a critical message\")\n",
    "## how it is used i have an example python code in logs folder"
   ]
  },
  {
   "cell_type": "code",
   "execution_count": null,
   "metadata": {},
   "outputs": [],
   "source": []
  }
 ],
 "metadata": {
  "kernelspec": {
   "display_name": "my_env",
   "language": "python",
   "name": "python3"
  },
  "language_info": {
   "codemirror_mode": {
    "name": "ipython",
    "version": 3
   },
   "file_extension": ".py",
   "mimetype": "text/x-python",
   "name": "python",
   "nbconvert_exporter": "python",
   "pygments_lexer": "ipython3",
   "version": "3.12.8"
  }
 },
 "nbformat": 4,
 "nbformat_minor": 2
}
