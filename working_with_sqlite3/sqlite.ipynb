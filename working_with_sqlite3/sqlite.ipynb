{
 "cells": [
  {
   "cell_type": "markdown",
   "metadata": {},
   "source": [
    "## SQL And SQLite\n",
    "\n",
    "#### Sql(structured query language) is a standard language for managing and manipulating relational databases. sqlite is a self-contained serverless, and zero-configuration database engine that is widely used for embedded database systems. we will cover the basics of sql and sqlite, including creating databases,tables, and performing various sql operations."
   ]
  },
  {
   "cell_type": "code",
   "execution_count": 1,
   "metadata": {},
   "outputs": [],
   "source": [
    "import sqlite3"
   ]
  },
  {
   "cell_type": "code",
   "execution_count": 3,
   "metadata": {},
   "outputs": [
    {
     "data": {
      "text/plain": [
       "<sqlite3.Connection at 0x238bc4e95d0>"
      ]
     },
     "execution_count": 3,
     "metadata": {},
     "output_type": "execute_result"
    }
   ],
   "source": [
    "## connect to sqlite database\n",
    "connection=sqlite3.connect(\"example.db\")\n",
    "connection"
   ]
  },
  {
   "cell_type": "code",
   "execution_count": 4,
   "metadata": {},
   "outputs": [],
   "source": [
    "## create a cursor\n",
    "cursor=connection.cursor()"
   ]
  },
  {
   "cell_type": "code",
   "execution_count": 5,
   "metadata": {},
   "outputs": [],
   "source": [
    "## create a table\n",
    "cursor.execute('''\n",
    "Create Table If Not Exists employees(\n",
    "    id integer primary key,\n",
    "    name text Not Null,\n",
    "    age integer,\n",
    "    department text)\n",
    "''')\n",
    "\n",
    "## commit the changes\n",
    "connection.commit()"
   ]
  },
  {
   "cell_type": "code",
   "execution_count": 6,
   "metadata": {},
   "outputs": [],
   "source": [
    "## insert the data in sqlite tabele\n",
    "cursor.execute('''\n",
    "insert into employees(name,age,department)values('sandeep',23,'Gen ai developer')\n",
    "''')\n",
    "\n",
    "cursor.execute('''\n",
    "insert into employees(name,age,department)values('krish',32,'Data Engineer')\n",
    "''')\n",
    "\n",
    "cursor.execute('''\n",
    "insert into employees(name,age,department)values('bob',25,'ML Engineer')\n",
    "''')\n",
    "\n",
    "## commit the changes\n",
    "connection.commit()\n"
   ]
  },
  {
   "cell_type": "code",
   "execution_count": 10,
   "metadata": {},
   "outputs": [
    {
     "name": "stdout",
     "output_type": "stream",
     "text": [
      "(1, 'sandeep', 23, 'Gen ai developer')\n",
      "(2, 'krish', 31, 'Data Engineer')\n",
      "(3, 'bob', 25, 'ML Engineer')\n"
     ]
    }
   ],
   "source": [
    "## query the table \n",
    "cursor.execute('''select * from employees''')\n",
    "rows=cursor.fetchall()\n",
    "\n",
    "for row in rows:\n",
    "    print(row)"
   ]
  },
  {
   "cell_type": "code",
   "execution_count": 9,
   "metadata": {},
   "outputs": [],
   "source": [
    "## update the table\n",
    "cursor.execute('''\n",
    "update employees\n",
    "set age=31\n",
    "where name='krish'\n",
    "''')\n",
    "connection.commit()"
   ]
  },
  {
   "cell_type": "code",
   "execution_count": 11,
   "metadata": {},
   "outputs": [
    {
     "name": "stdout",
     "output_type": "stream",
     "text": [
      "(1, 'sandeep', 23, 'Gen ai developer')\n",
      "(2, 'krish', 31, 'Data Engineer')\n",
      "(3, 'bob', 25, 'ML Engineer')\n"
     ]
    }
   ],
   "source": [
    "cursor.execute('''select * from employees''')\n",
    "rows=cursor.fetchall()\n",
    "\n",
    "for row in rows:\n",
    "    print(row)"
   ]
  },
  {
   "cell_type": "code",
   "execution_count": 12,
   "metadata": {},
   "outputs": [],
   "source": [
    "## delete a record in a table \n",
    "cursor.execute('''\n",
    "Delete from employees\n",
    "where name='sandeep'\n",
    "''')\n",
    "connection.commit()"
   ]
  },
  {
   "cell_type": "code",
   "execution_count": 13,
   "metadata": {},
   "outputs": [
    {
     "name": "stdout",
     "output_type": "stream",
     "text": [
      "(2, 'krish', 31, 'Data Engineer')\n",
      "(3, 'bob', 25, 'ML Engineer')\n"
     ]
    }
   ],
   "source": [
    "cursor.execute('''select * from employees''')\n",
    "rows=cursor.fetchall()\n",
    "\n",
    "for row in rows:\n",
    "    print(row)"
   ]
  },
  {
   "cell_type": "code",
   "execution_count": 14,
   "metadata": {},
   "outputs": [
    {
     "data": {
      "text/plain": [
       "<sqlite3.Connection at 0x238bc5632e0>"
      ]
     },
     "execution_count": 14,
     "metadata": {},
     "output_type": "execute_result"
    }
   ],
   "source": [
    "## to insert in a multiple values in single query\n",
    "connection=sqlite3.connect(\"sales_date.db\")\n",
    "connection"
   ]
  },
  {
   "cell_type": "code",
   "execution_count": 15,
   "metadata": {},
   "outputs": [],
   "source": [
    "cursor=connection.cursor()"
   ]
  },
  {
   "cell_type": "code",
   "execution_count": 22,
   "metadata": {},
   "outputs": [],
   "source": [
    "cursor.execute('''\n",
    "create table if not exists sales(\n",
    "               id integer primary key,\n",
    "               date text not null,\n",
    "               city text,\n",
    "               product text)\n",
    "''')\n",
    "connection.commit()"
   ]
  },
  {
   "cell_type": "code",
   "execution_count": 23,
   "metadata": {},
   "outputs": [],
   "source": [
    "sales_list=[\n",
    "    ('2025-01-01','chennai','mobile'),\n",
    "    ('2025-01-02','banglore','tv'),\n",
    "    ('2025-01-03','delhi','fridge')\n",
    "]"
   ]
  },
  {
   "cell_type": "code",
   "execution_count": 24,
   "metadata": {},
   "outputs": [],
   "source": [
    "cursor.executemany('''\n",
    "insert into sales(date,city,product)values(?,?,?)\n",
    "''',sales_list)\n",
    "connection.commit()"
   ]
  },
  {
   "cell_type": "code",
   "execution_count": 25,
   "metadata": {},
   "outputs": [
    {
     "name": "stdout",
     "output_type": "stream",
     "text": [
      "(None, '2025-01-01', 'chennai', 'mobile')\n",
      "(None, '2025-01-02', 'banglore', 'tv')\n",
      "(None, '2025-01-03', 'delhi', 'fridge')\n",
      "(None, '2025-01-01', 'chennai', 'mobile')\n",
      "(None, '2025-01-02', 'banglore', 'tv')\n",
      "(None, '2025-01-03', 'delhi', 'fridge')\n"
     ]
    }
   ],
   "source": [
    "cursor.execute('''select * from sales''')\n",
    "rows=cursor.fetchall()\n",
    "\n",
    "for row in rows:\n",
    "    print(row)"
   ]
  },
  {
   "cell_type": "code",
   "execution_count": null,
   "metadata": {},
   "outputs": [],
   "source": []
  }
 ],
 "metadata": {
  "kernelspec": {
   "display_name": "my_env",
   "language": "python",
   "name": "python3"
  },
  "language_info": {
   "codemirror_mode": {
    "name": "ipython",
    "version": 3
   },
   "file_extension": ".py",
   "mimetype": "text/x-python",
   "name": "python",
   "nbconvert_exporter": "python",
   "pygments_lexer": "ipython3",
   "version": "3.12.8"
  }
 },
 "nbformat": 4,
 "nbformat_minor": 2
}
