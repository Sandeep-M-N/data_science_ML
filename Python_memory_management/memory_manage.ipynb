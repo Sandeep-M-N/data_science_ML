{
 "cells": [
  {
   "cell_type": "markdown",
   "metadata": {},
   "source": [
    "## Python memory management\n",
    "#### Memory management in python involves a combination of automatic garbage collection, reference counting , and various internal optimizations to efficiently manage memory allocation and deallocation. understanding these mechanisms can help developers write more efficient and robust applications.\n",
    "\n",
    "- key concepts in pyhton memory management\n",
    "- memory allocation and deallocation\n",
    "- reference counting \n",
    "- garbage collection \n",
    "- the gc module \n",
    "- memory management best practices"
   ]
  },
  {
   "cell_type": "markdown",
   "metadata": {},
   "source": [
    "### Reference Counting\n",
    "Reference counting is the primary method python uses to manage memory. Each object in python maintains a count of reference pointing to it. When the reference count drops to zero, the memory occupied by the object is deallocated."
   ]
  },
  {
   "cell_type": "code",
   "execution_count": 1,
   "metadata": {},
   "outputs": [
    {
     "name": "stdout",
     "output_type": "stream",
     "text": [
      "2\n"
     ]
    }
   ],
   "source": [
    "import sys\n",
    "\n",
    "a=[]\n",
    "print(sys.getrefcount(a))\n",
    "## here we get two references one from 'a' and  other from getrefcount(a)"
   ]
  },
  {
   "cell_type": "code",
   "execution_count": 2,
   "metadata": {},
   "outputs": [
    {
     "name": "stdout",
     "output_type": "stream",
     "text": [
      "3\n"
     ]
    }
   ],
   "source": [
    "b=a\n",
    "print(sys.getrefcount(b))\n",
    "## here we get three references a is one reference ,b is one reference and b is pointing towards a"
   ]
  },
  {
   "cell_type": "markdown",
   "metadata": {},
   "source": [
    "### garbage collection \n",
    "python includes a cyclic garbage collector to handle reference cycles. Reference cycles occur when objects refernce each other, preventing their reference counts from reaching zero."
   ]
  },
  {
   "cell_type": "code",
   "execution_count": 3,
   "metadata": {},
   "outputs": [],
   "source": [
    "import gc\n",
    "## enable garbage collection \n",
    "gc.enable()"
   ]
  },
  {
   "cell_type": "code",
   "execution_count": 4,
   "metadata": {},
   "outputs": [],
   "source": [
    "gc.disable()"
   ]
  },
  {
   "cell_type": "code",
   "execution_count": 5,
   "metadata": {},
   "outputs": [
    {
     "data": {
      "text/plain": [
       "59"
      ]
     },
     "execution_count": 5,
     "metadata": {},
     "output_type": "execute_result"
    }
   ],
   "source": [
    "gc.collect()"
   ]
  },
  {
   "cell_type": "code",
   "execution_count": 6,
   "metadata": {},
   "outputs": [
    {
     "name": "stdout",
     "output_type": "stream",
     "text": [
      "[{'collections': 196, 'collected': 1863, 'uncollectable': 0}, {'collections': 17, 'collected': 346, 'uncollectable': 0}, {'collections': 2, 'collected': 87, 'uncollectable': 0}]\n"
     ]
    }
   ],
   "source": [
    "## get garbage collection stats\n",
    "print(gc.get_stats())"
   ]
  },
  {
   "cell_type": "markdown",
   "metadata": {},
   "source": [
    "### Memory Management best practices \n",
    "1. Use Local Variables: Local variables have a shorter life span and are freed sooner than global variables.\n",
    "2. Avoid Circular Reference: Circular references can lead to memory leaks if not properly managed.\n",
    "3. Use generators: Generators produce items one at a time and only keep one item in memory at a time, making them memory efficient.\n",
    "4. Explicitly Delete Objects: use the del statement to delete variables and objects explicitly.\n",
    "5. Profile memory usage: Use memory profiling tools like tracemalloc and memory_profiler to identify memory leaks and optimize memory usage."
   ]
  },
  {
   "cell_type": "code",
   "execution_count": 8,
   "metadata": {},
   "outputs": [
    {
     "name": "stdout",
     "output_type": "stream",
     "text": [
      "object obj1 created\n",
      "object Obj2 created\n",
      "Object obj1 deleted\n",
      "Object Obj2 deleted\n",
      "Object obj1 deleted\n",
      "Object Obj2 deleted\n"
     ]
    },
    {
     "data": {
      "text/plain": [
       "30"
      ]
     },
     "execution_count": 8,
     "metadata": {},
     "output_type": "execute_result"
    }
   ],
   "source": [
    "import gc\n",
    "\n",
    "class MyObject:\n",
    "    def __init__(self, name):\n",
    "        self.name=name\n",
    "        print(f\"object {self.name} created\")\n",
    "\n",
    "    def __del__(self):\n",
    "        print(f\"Object {self.name} deleted\")\n",
    "\n",
    "## create circular reference\n",
    "obj1=MyObject(\"obj1\")\n",
    "obj2=MyObject(\"Obj2\")\n",
    "obj1.ref=obj2\n",
    "obj2.ref=obj1\n",
    "\n",
    "del obj1\n",
    "del obj2\n",
    "## manually trigger the using gc \n",
    "gc.collect()"
   ]
  },
  {
   "cell_type": "code",
   "execution_count": null,
   "metadata": {},
   "outputs": [],
   "source": []
  }
 ],
 "metadata": {
  "kernelspec": {
   "display_name": "Python 3",
   "language": "python",
   "name": "python3"
  },
  "language_info": {
   "codemirror_mode": {
    "name": "ipython",
    "version": 3
   },
   "file_extension": ".py",
   "mimetype": "text/x-python",
   "name": "python",
   "nbconvert_exporter": "python",
   "pygments_lexer": "ipython3",
   "version": "3.10.16"
  }
 },
 "nbformat": 4,
 "nbformat_minor": 2
}
